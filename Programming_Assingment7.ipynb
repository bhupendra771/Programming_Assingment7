{
 "cells": [
  {
   "cell_type": "code",
   "execution_count": 1,
   "id": "7772083e",
   "metadata": {},
   "outputs": [
    {
     "name": "stdout",
     "output_type": "stream",
     "text": [
      "Sum of total-6 element of array is=32 \n"
     ]
    }
   ],
   "source": [
    "# 1.\tWrite a Python Program to find sum of array?\n",
    "arr = [3,4,5,6,7,7]\n",
    "s = 0\n",
    "n=0\n",
    "for i in arr:\n",
    "    s = i + s\n",
    "    n += 1\n",
    "    \n",
    "   \n",
    "print(f\"Sum of total-{n} element of array is={s} \")"
   ]
  },
  {
   "cell_type": "code",
   "execution_count": 2,
   "id": "89eb1873",
   "metadata": {},
   "outputs": [
    {
     "name": "stdout",
     "output_type": "stream",
     "text": [
      "biggest of total-10 element of array is=900 \n"
     ]
    }
   ],
   "source": [
    "# 2.\tWrite a Python Program to find largest element in an array?\n",
    "arr = [1,3,4,900,53,3,1,6,72,721]\n",
    "s = 0\n",
    "n=0\n",
    "for i in arr:\n",
    "    n +=1\n",
    "    if i >s:\n",
    "        s = i\n",
    "\n",
    "   \n",
    "print(f\"biggest of total-{n} element of array is={s} \")"
   ]
  },
  {
   "cell_type": "code",
   "execution_count": 3,
   "id": "d6070a19",
   "metadata": {},
   "outputs": [
    {
     "name": "stdout",
     "output_type": "stream",
     "text": [
      "Array after left rotation is:  enter number which is required for rotation\n",
      "3\n",
      "[4, 5, 6, 7, 1, 2, 3]\n"
     ]
    }
   ],
   "source": [
    "# 3.\tWrite a Python Program for array rotation?\n",
    "\n",
    "def rotateArray(arr, n, d):\n",
    "    temp1 = []\n",
    "    temp2 = []\n",
    "    if d > n:\n",
    "        temp = \"invalid array length\"\n",
    "    else:     \n",
    "            for i in range(n):\n",
    "                if i<d:\n",
    "                    temp1.append(arr[i])\n",
    "                else :\n",
    "                    temp2.append(arr[i])\n",
    "            temp= temp2+temp1\n",
    "\n",
    "\n",
    "    return temp\n",
    " \n",
    " \n",
    "# Driver function to test above function\n",
    "arr = [1,2,3,4,5,6,7]\n",
    "print(\"Array after left rotation is: \", end=' ')\n",
    "n1= int(input(\"enter number which is required for rotation\\n\"))\n",
    "print(rotateArray(arr, len(arr), n1))\n",
    "    \n",
    "   "
   ]
  },
  {
   "cell_type": "code",
   "execution_count": 4,
   "id": "609b65ab",
   "metadata": {},
   "outputs": [
    {
     "name": "stdout",
     "output_type": "stream",
     "text": [
      " after left rotation is:  [4, 5, 6, 7, 1, 2, 3]\n",
      "Split array is [1, 2, 3] and [4, 5, 6, 7] add the first part to the end\n",
      "3\n"
     ]
    }
   ],
   "source": [
    "# 4.\tWrite a Python Program to Split the array and add the first part to the end?\n",
    "temp1 = []\n",
    "temp2 = []\n",
    "def rotateArray(arr, n, d):\n",
    "     \n",
    "    \n",
    "        \n",
    "    for i in range(n):\n",
    "        if i<d:\n",
    "            temp1.append(arr[i])\n",
    "        else :\n",
    "            temp2.append(arr[i])\n",
    "    temp= temp2+temp1\n",
    "\n",
    "\n",
    "    return temp\n",
    " \n",
    "arr = [1,2,3,4,5,6,7]\n",
    "print(f\" after left rotation is: \", end=' ')\n",
    "print(rotateArray(arr, len(arr), n1))\n",
    "n1= int(input(f\"Split array is {temp1} and {temp2} add the first part to the end\\n\"))\n",
    "\n",
    "    \n"
   ]
  },
  {
   "cell_type": "code",
   "execution_count": 32,
   "id": "7340286a",
   "metadata": {},
   "outputs": [
    {
     "name": "stdout",
     "output_type": "stream",
     "text": [
      "enter number of array element4\n",
      "Enter your 0 element3\n",
      "Enter your 1 element2\n",
      "Enter your 2 element5\n",
      "Enter your 3 element0\n",
      "array is [3, 2, 5, 0] and 4\n",
      "3\n",
      "fail\n",
      "array is Not Monotonic\n"
     ]
    }
   ],
   "source": [
    "# 5.\tWrite a Python Program to check if given array is Monotonic?\n",
    "\n",
    "n = int(input(\"enter number of array element\"))\n",
    "a = False\n",
    "arr2 = []\n",
    "for i in range (0 ,n):\n",
    "    n1 = int(input(f\"Enter your {i} element\"))\n",
    "    arr2.append(n1)\n",
    "\n",
    "\n",
    "print(f\"array is {arr2} and {len(arr2)}\")\n",
    "\n",
    "# arr2 = [1,2,3,4,5,0,7,8]\n",
    "if arr2[0]<arr2[1]:\n",
    "      \n",
    "\n",
    "        for i in range(0,len(arr2)-1):\n",
    "            if arr2[i]< arr2[i+1]:\n",
    "                a = True\n",
    "                print(arr2[i])\n",
    "\n",
    "            else:\n",
    "                print(\"fail\")\n",
    "                a = False\n",
    "                break\n",
    "else:\n",
    "    \n",
    "     for i in range(0,len(arr2)-1):\n",
    "            if arr2[i]> arr2[i+1]:\n",
    "                a = True\n",
    "                print(arr2[i])\n",
    "\n",
    "            else:\n",
    "#                 print(\"fail\")\n",
    "                a = False\n",
    "                break\n",
    "    \n",
    "if a== True:\n",
    "    print(\"array is Monotonic\")\n",
    "    \n",
    "else:\n",
    "    print(\"array is Not Monotonic\")\n",
    "\n",
    "\n"
   ]
  },
  {
   "cell_type": "code",
   "execution_count": null,
   "id": "edb9fbb9",
   "metadata": {},
   "outputs": [],
   "source": []
  }
 ],
 "metadata": {
  "kernelspec": {
   "display_name": "Python 3 (ipykernel)",
   "language": "python",
   "name": "python3"
  },
  "language_info": {
   "codemirror_mode": {
    "name": "ipython",
    "version": 3
   },
   "file_extension": ".py",
   "mimetype": "text/x-python",
   "name": "python",
   "nbconvert_exporter": "python",
   "pygments_lexer": "ipython3",
   "version": "3.10.4"
  }
 },
 "nbformat": 4,
 "nbformat_minor": 5
}
